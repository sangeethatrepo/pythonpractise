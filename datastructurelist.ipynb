{
 "metadata": {
  "language_info": {
   "codemirror_mode": {
    "name": "ipython",
    "version": 3
   },
   "file_extension": ".py",
   "mimetype": "text/x-python",
   "name": "python",
   "nbconvert_exporter": "python",
   "pygments_lexer": "ipython3",
   "version": "3.8.8"
  },
  "orig_nbformat": 2,
  "kernelspec": {
   "name": "python388jvsc74a57bd0f3c833e8ed1ac0cbfed2e91cb4446762668b62d5a18690637d43ba607daecf88",
   "display_name": "Python 3.8.8 64-bit"
  },
  "metadata": {
   "interpreter": {
    "hash": "f3c833e8ed1ac0cbfed2e91cb4446762668b62d5a18690637d43ba607daecf88"
   }
  }
 },
 "nbformat": 4,
 "nbformat_minor": 2,
 "cells": [
  {
   "cell_type": "code",
   "execution_count": 1,
   "metadata": {},
   "outputs": [
    {
     "output_type": "stream",
     "name": "stdout",
     "text": [
      "['apple', True, 343]\n"
     ]
    }
   ],
   "source": [
    "# list data structure\n",
    "mylist = [\"apple\", True , 343]\n",
    "print(mylist)"
   ]
  },
  {
   "cell_type": "code",
   "execution_count": 2,
   "metadata": {},
   "outputs": [
    {
     "output_type": "stream",
     "name": "stdout",
     "text": [
      "['apple', False, 343]\n"
     ]
    }
   ],
   "source": [
    "# List is mutable\n",
    "mylist = [\"apple\", True , 343]\n",
    "mylist[1] =False\n",
    "print(mylist)\n"
   ]
  },
  {
   "cell_type": "code",
   "execution_count": 3,
   "metadata": {},
   "outputs": [
    {
     "output_type": "stream",
     "name": "stdout",
     "text": [
      "['apple', False, 343]\n"
     ]
    }
   ],
   "source": [
    "# List as manipulation methods\n",
    "\n",
    "mylist = [\"apple\", True , 343]\n",
    "mylist[1] =False\n",
    "print(mylist)"
   ]
  },
  {
   "cell_type": "code",
   "execution_count": 4,
   "metadata": {},
   "outputs": [
    {
     "output_type": "stream",
     "name": "stdout",
     "text": [
      "['bannan', False, 343]\n"
     ]
    }
   ],
   "source": [
    "mylist = [\"apple\", True , 343]\n",
    "mylist[0:2] = [\"bannan\", False]\n",
    "print(mylist)"
   ]
  },
  {
   "cell_type": "code",
   "execution_count": 5,
   "metadata": {},
   "outputs": [
    {
     "output_type": "stream",
     "name": "stdout",
     "text": [
      "['apple', True, 343, 'gava']\n"
     ]
    }
   ],
   "source": [
    "# method to manipulate list values\n",
    "# insert()\n",
    "mylist = [\"apple\", True , 343]\n",
    "mylist.insert(3,\"gava\")\n",
    "print(mylist)"
   ]
  },
  {
   "cell_type": "code",
   "execution_count": 6,
   "metadata": {},
   "outputs": [
    {
     "output_type": "stream",
     "name": "stdout",
     "text": [
      "['apple', True, 343, 400]\n"
     ]
    }
   ],
   "source": [
    "# Append() method appends value at the last\n",
    "\n",
    "mylist = [\"apple\", True , 343]\n",
    "mylist.append(400)\n",
    "print(mylist)"
   ]
  },
  {
   "cell_type": "code",
   "execution_count": 7,
   "metadata": {},
   "outputs": [
    {
     "output_type": "stream",
     "name": "stdout",
     "text": [
      "[True, 343]\n"
     ]
    }
   ],
   "source": [
    "# pop() method remove value from specific index or pops value from last by default\n",
    "mylist = [\"apple\", True , 343]\n",
    "mylist.pop(0)\n",
    "print(mylist)\n"
   ]
  },
  {
   "cell_type": "code",
   "execution_count": 8,
   "metadata": {},
   "outputs": [
    {
     "output_type": "stream",
     "name": "stdout",
     "text": [
      "[]\n"
     ]
    }
   ],
   "source": [
    "# clear() methods the list\n",
    "mylist = [\"apple\", True , 343]\n",
    "mylist.clear()\n",
    "print(mylist)"
   ]
  },
  {
   "cell_type": "code",
   "execution_count": 9,
   "metadata": {},
   "outputs": [
    {
     "output_type": "stream",
     "name": "stdout",
     "text": [
      "apple\nTrue\n343\n"
     ]
    }
   ],
   "source": [
    "#For loop in list\n",
    "mylist = [\"apple\", True , 343]\n",
    "for x in mylist:\n",
    "    print(x)"
   ]
  },
  {
   "cell_type": "code",
   "execution_count": 10,
   "metadata": {},
   "outputs": [
    {
     "output_type": "stream",
     "name": "stdout",
     "text": [
      "apple\nTrue\n343\n"
     ]
    }
   ],
   "source": [
    "# for loop with range and len()\n",
    "mylist = [\"apple\", True , 343]\n",
    "for x in range(len(mylist)):\n",
    "    print(mylist[x])\n"
   ]
  },
  {
   "cell_type": "code",
   "execution_count": 11,
   "metadata": {},
   "outputs": [
    {
     "output_type": "stream",
     "name": "stdout",
     "text": [
      "apple\nTrue\n343\n"
     ]
    }
   ],
   "source": [
    "mylist = [\"apple\", True , 343]\n",
    "i=0\n",
    "while(i<len(mylist)):\n",
    "    print(mylist[i])\n",
    "    i=i+1\n",
    "\n"
   ]
  },
  {
   "cell_type": "code",
   "execution_count": 12,
   "metadata": {},
   "outputs": [
    {
     "output_type": "stream",
     "name": "stdout",
     "text": [
      "apple\nTrue\n343\n"
     ]
    },
    {
     "output_type": "execute_result",
     "data": {
      "text/plain": [
       "[None, None, None]"
      ]
     },
     "metadata": {},
     "execution_count": 12
    }
   ],
   "source": [
    "#List comphernession\n",
    "mylist = [\"apple\", True , 343]\n",
    "[print(x) for x in mylist] "
   ]
  },
  {
   "cell_type": "code",
   "execution_count": 13,
   "metadata": {},
   "outputs": [
    {
     "output_type": "stream",
     "name": "stdout",
     "text": [
      "['apple', 'banana', 'mango']\n"
     ]
    }
   ],
   "source": [
    "fruits = [\"apple\", \"banana\", \"cherry\", \"kiwi\", \"mango\"]\n",
    "newlist = []\n",
    "for x in fruits:\n",
    "    if \"a\" in x:\n",
    "        newlist.append(x)\n",
    "print(newlist)"
   ]
  },
  {
   "cell_type": "code",
   "execution_count": 14,
   "metadata": {},
   "outputs": [
    {
     "output_type": "stream",
     "name": "stdout",
     "text": [
      "['apple', 'banana', 'mango']\n"
     ]
    }
   ],
   "source": [
    "# Same above function using list comperhension\n",
    "fruits = [\"apple\", \"banana\", \"cherry\", \"kiwi\", \"mango\"]\n",
    "newlist = [x for x in fruits if \"a\" in x]\n",
    "print(newlist)"
   ]
  },
  {
   "cell_type": "code",
   "execution_count": 15,
   "metadata": {},
   "outputs": [
    {
     "output_type": "stream",
     "name": "stdout",
     "text": [
      "['banana', 'cherry', 'kiwi', 'mango']\n"
     ]
    }
   ],
   "source": [
    "fruits = [\"apple\", \"banana\", \"cherry\", \"kiwi\", \"mango\"]\n",
    "newlist = [x for x in fruits if x!=\"apple\"]\n",
    "print(newlist)"
   ]
  },
  {
   "cell_type": "code",
   "execution_count": 16,
   "metadata": {},
   "outputs": [
    {
     "output_type": "stream",
     "name": "stdout",
     "text": [
      "['BANANA', 'CHERRY', 'KIWI', 'MANGO']\n"
     ]
    }
   ],
   "source": [
    "fruits = [\"apple\", \"banana\", \"cherry\", \"kiwi\", \"mango\"]\n",
    "newlist = [x.upper() for x in fruits if x!=\"apple\"]\n",
    "print(newlist)"
   ]
  },
  {
   "cell_type": "code",
   "execution_count": 17,
   "metadata": {},
   "outputs": [
    {
     "output_type": "stream",
     "name": "stdout",
     "text": [
      "['apple', 'orange', 'cherry', 'kiwi', 'mango']\n"
     ]
    }
   ],
   "source": [
    "#Return \"orange\" instead of \"banana\"\n",
    "fruits = [\"apple\", \"banana\", \"cherry\", \"kiwi\", \"mango\"]\n",
    "newlist = [x if x != \"banana\" else \"orange\" for x in fruits]\n",
    "print(newlist)"
   ]
  },
  {
   "cell_type": "code",
   "execution_count": null,
   "metadata": {},
   "outputs": [],
   "source": []
  }
 ]
}